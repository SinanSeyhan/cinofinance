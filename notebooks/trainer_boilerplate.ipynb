{
 "cells": [
  {
   "cell_type": "code",
   "execution_count": 1,
   "id": "82b57b1d-9f64-4190-92da-f82edf1c870d",
   "metadata": {},
   "outputs": [],
   "source": [
    "import numpy as np\n",
    "import matplotlib.pyplot as plt\n",
    "import pandas as pd"
   ]
  },
  {
   "cell_type": "code",
   "execution_count": 2,
   "id": "c19b86cc-882d-46d7-a77d-615fee739d2e",
   "metadata": {},
   "outputs": [],
   "source": [
    "url = 'https://raw.githubusercontent.com/mwitiderrick/stockprice/master/NSE-TATAGLOBAL.csv'\n",
    "dataset_train = pd.read_csv(url)\n",
    "training_set = dataset_train.iloc[:, 1:2].values"
   ]
  },
  {
   "cell_type": "code",
   "execution_count": 3,
   "id": "55e7574c-ca72-4e1d-a6ff-fd72e6f552ad",
   "metadata": {},
   "outputs": [],
   "source": [
    "from sklearn.preprocessing import MinMaxScaler\n",
    "scaler = MinMaxScaler(feature_range=(0,1))\n",
    "training_set_scaled = scaler.fit_transform(training_set)"
   ]
  },
  {
   "cell_type": "code",
   "execution_count": 4,
   "id": "ed6c1192-e572-4a8d-ab26-154e5befd80d",
   "metadata": {},
   "outputs": [],
   "source": [
    "X_train = []\n",
    "y_train = []"
   ]
  },
  {
   "cell_type": "code",
   "execution_count": 5,
   "id": "eb0f5941-16bd-4229-9419-7756d9696d68",
   "metadata": {},
   "outputs": [
    {
     "ename": "AttributeError",
     "evalue": "'numpy.ndarray' object has no attribute 'append'",
     "output_type": "error",
     "traceback": [
      "\u001b[0;31m---------------------------------------------------------------------------\u001b[0m",
      "\u001b[0;31mAttributeError\u001b[0m                            Traceback (most recent call last)",
      "\u001b[0;32m/tmp/ipykernel_31993/1921408136.py\u001b[0m in \u001b[0;36m<module>\u001b[0;34m\u001b[0m\n\u001b[1;32m      1\u001b[0m \u001b[0;32mfor\u001b[0m \u001b[0mi\u001b[0m \u001b[0;32min\u001b[0m \u001b[0mrange\u001b[0m\u001b[0;34m(\u001b[0m\u001b[0;36m60\u001b[0m\u001b[0;34m,\u001b[0m \u001b[0;36m2035\u001b[0m\u001b[0;34m)\u001b[0m\u001b[0;34m:\u001b[0m\u001b[0;34m\u001b[0m\u001b[0;34m\u001b[0m\u001b[0m\n\u001b[0;32m----> 2\u001b[0;31m     \u001b[0mX_train\u001b[0m\u001b[0;34m.\u001b[0m\u001b[0mappend\u001b[0m\u001b[0;34m(\u001b[0m\u001b[0mtraining_set_scaled\u001b[0m\u001b[0;34m[\u001b[0m\u001b[0mi\u001b[0m\u001b[0;34m-\u001b[0m\u001b[0;36m60\u001b[0m\u001b[0;34m:\u001b[0m\u001b[0mi\u001b[0m\u001b[0;34m,\u001b[0m \u001b[0;36m0\u001b[0m\u001b[0;34m]\u001b[0m\u001b[0;34m.\u001b[0m\u001b[0mcopy\u001b[0m\u001b[0;34m(\u001b[0m\u001b[0;34m)\u001b[0m\u001b[0;34m)\u001b[0m\u001b[0;34m\u001b[0m\u001b[0;34m\u001b[0m\u001b[0m\n\u001b[0m\u001b[1;32m      3\u001b[0m     \u001b[0my_train\u001b[0m\u001b[0;34m.\u001b[0m\u001b[0mappend\u001b[0m\u001b[0;34m(\u001b[0m\u001b[0mtraining_set_scaled\u001b[0m\u001b[0;34m[\u001b[0m\u001b[0mi\u001b[0m\u001b[0;34m,\u001b[0m \u001b[0;36m0\u001b[0m\u001b[0;34m]\u001b[0m\u001b[0;34m.\u001b[0m\u001b[0mcopy\u001b[0m\u001b[0;34m(\u001b[0m\u001b[0;34m)\u001b[0m\u001b[0;34m)\u001b[0m\u001b[0;34m\u001b[0m\u001b[0;34m\u001b[0m\u001b[0m\n\u001b[1;32m      4\u001b[0m     \u001b[0mX_train\u001b[0m\u001b[0;34m,\u001b[0m \u001b[0my_train\u001b[0m \u001b[0;34m=\u001b[0m \u001b[0mnp\u001b[0m\u001b[0;34m.\u001b[0m\u001b[0marray\u001b[0m\u001b[0;34m(\u001b[0m\u001b[0mX_train\u001b[0m\u001b[0;34m)\u001b[0m\u001b[0;34m,\u001b[0m \u001b[0mnp\u001b[0m\u001b[0;34m.\u001b[0m\u001b[0marray\u001b[0m\u001b[0;34m(\u001b[0m\u001b[0my_train\u001b[0m\u001b[0;34m)\u001b[0m\u001b[0;34m\u001b[0m\u001b[0;34m\u001b[0m\u001b[0m\n\u001b[1;32m      5\u001b[0m     \u001b[0mX_train\u001b[0m \u001b[0;34m=\u001b[0m \u001b[0mnp\u001b[0m\u001b[0;34m.\u001b[0m\u001b[0mreshape\u001b[0m\u001b[0;34m(\u001b[0m\u001b[0mX_train\u001b[0m\u001b[0;34m,\u001b[0m \u001b[0;34m(\u001b[0m\u001b[0mX_train\u001b[0m\u001b[0;34m.\u001b[0m\u001b[0mshape\u001b[0m\u001b[0;34m[\u001b[0m\u001b[0;36m0\u001b[0m\u001b[0;34m]\u001b[0m\u001b[0;34m,\u001b[0m \u001b[0mX_train\u001b[0m\u001b[0;34m.\u001b[0m\u001b[0mshape\u001b[0m\u001b[0;34m[\u001b[0m\u001b[0;36m1\u001b[0m\u001b[0;34m]\u001b[0m\u001b[0;34m,\u001b[0m \u001b[0;36m1\u001b[0m\u001b[0;34m)\u001b[0m\u001b[0;34m)\u001b[0m\u001b[0;34m\u001b[0m\u001b[0;34m\u001b[0m\u001b[0m\n",
      "\u001b[0;31mAttributeError\u001b[0m: 'numpy.ndarray' object has no attribute 'append'"
     ]
    }
   ],
   "source": [
    "for i in range(60, 2035):\n",
    "    X_train.append(training_set_scaled[i-60:i, 0].copy())\n",
    "    y_train.append(training_set_scaled[i, 0].copy())\n",
    "    X_train, y_train = np.array(X_train), np.array(y_train)\n",
    "    X_train = np.reshape(X_train, (X_train.shape[0], X_train.shape[1], 1))"
   ]
  },
  {
   "cell_type": "code",
   "execution_count": 6,
   "id": "836f7158-2e25-4125-86ef-bb75984d20d2",
   "metadata": {},
   "outputs": [
    {
     "name": "stderr",
     "output_type": "stream",
     "text": [
      "2022-07-12 10:47:05.015348: W tensorflow/stream_executor/platform/default/dso_loader.cc:64] Could not load dynamic library 'libcudart.so.11.0'; dlerror: libcudart.so.11.0: cannot open shared object file: No such file or directory\n",
      "2022-07-12 10:47:05.015420: I tensorflow/stream_executor/cuda/cudart_stub.cc:29] Ignore above cudart dlerror if you do not have a GPU set up on your machine.\n"
     ]
    }
   ],
   "source": [
    "from tensorflow.keras.models import Sequential"
   ]
  },
  {
   "cell_type": "code",
   "execution_count": 7,
   "id": "51983201-0082-4247-9fd3-0af6bdfad4ed",
   "metadata": {},
   "outputs": [],
   "source": [
    "from keras.models import Sequential\n",
    "from keras.layers import LSTM\n",
    "from keras.layers import Dropout\n",
    "from keras.layers import Dense"
   ]
  },
  {
   "cell_type": "code",
   "execution_count": 8,
   "id": "4ad34a60-cd1c-4442-ab77-c19114301eca",
   "metadata": {},
   "outputs": [
    {
     "name": "stderr",
     "output_type": "stream",
     "text": [
      "2022-07-12 10:47:16.125533: I tensorflow/stream_executor/cuda/cuda_gpu_executor.cc:961] could not open file to read NUMA node: /sys/bus/pci/devices/0000:01:00.0/numa_node\n",
      "Your kernel may have been built without NUMA support.\n",
      "2022-07-12 10:47:16.125695: W tensorflow/stream_executor/platform/default/dso_loader.cc:64] Could not load dynamic library 'libcudart.so.11.0'; dlerror: libcudart.so.11.0: cannot open shared object file: No such file or directory\n",
      "2022-07-12 10:47:16.125754: W tensorflow/stream_executor/platform/default/dso_loader.cc:64] Could not load dynamic library 'libcublas.so.11'; dlerror: libcublas.so.11: cannot open shared object file: No such file or directory\n",
      "2022-07-12 10:47:16.125806: W tensorflow/stream_executor/platform/default/dso_loader.cc:64] Could not load dynamic library 'libcublasLt.so.11'; dlerror: libcublasLt.so.11: cannot open shared object file: No such file or directory\n",
      "2022-07-12 10:47:16.125858: W tensorflow/stream_executor/platform/default/dso_loader.cc:64] Could not load dynamic library 'libcufft.so.10'; dlerror: libcufft.so.10: cannot open shared object file: No such file or directory\n",
      "2022-07-12 10:47:16.125930: W tensorflow/stream_executor/platform/default/dso_loader.cc:64] Could not load dynamic library 'libcurand.so.10'; dlerror: libcurand.so.10: cannot open shared object file: No such file or directory\n",
      "2022-07-12 10:47:16.125982: W tensorflow/stream_executor/platform/default/dso_loader.cc:64] Could not load dynamic library 'libcusolver.so.11'; dlerror: libcusolver.so.11: cannot open shared object file: No such file or directory\n",
      "2022-07-12 10:47:16.126032: W tensorflow/stream_executor/platform/default/dso_loader.cc:64] Could not load dynamic library 'libcusparse.so.11'; dlerror: libcusparse.so.11: cannot open shared object file: No such file or directory\n",
      "2022-07-12 10:47:16.126082: W tensorflow/stream_executor/platform/default/dso_loader.cc:64] Could not load dynamic library 'libcudnn.so.8'; dlerror: libcudnn.so.8: cannot open shared object file: No such file or directory\n",
      "2022-07-12 10:47:16.126090: W tensorflow/core/common_runtime/gpu/gpu_device.cc:1850] Cannot dlopen some GPU libraries. Please make sure the missing libraries mentioned above are installed properly if you would like to use GPU. Follow the guide at https://www.tensorflow.org/install/gpu for how to download and setup the required libraries for your platform.\n",
      "Skipping registering GPU devices...\n",
      "2022-07-12 10:47:16.126813: I tensorflow/core/platform/cpu_feature_guard.cc:193] This TensorFlow binary is optimized with oneAPI Deep Neural Network Library (oneDNN) to use the following CPU instructions in performance-critical operations:  AVX2 FMA\n",
      "To enable them in other operations, rebuild TensorFlow with the appropriate compiler flags.\n"
     ]
    },
    {
     "name": "stdout",
     "output_type": "stream",
     "text": [
      "Epoch 1/100\n",
      "1/1 [==============================] - 5s 5s/step - loss: 0.5498\n",
      "Epoch 2/100\n",
      "1/1 [==============================] - 0s 209ms/step - loss: 0.4085\n",
      "Epoch 3/100\n",
      "1/1 [==============================] - 0s 140ms/step - loss: 0.2679\n",
      "Epoch 4/100\n",
      "1/1 [==============================] - 0s 125ms/step - loss: 0.1626\n",
      "Epoch 5/100\n",
      "1/1 [==============================] - 0s 120ms/step - loss: 0.0165\n",
      "Epoch 6/100\n",
      "1/1 [==============================] - 0s 113ms/step - loss: 0.0023\n",
      "Epoch 7/100\n",
      "1/1 [==============================] - 0s 106ms/step - loss: 0.2004\n",
      "Epoch 8/100\n",
      "1/1 [==============================] - 0s 107ms/step - loss: 0.1027\n",
      "Epoch 9/100\n",
      "1/1 [==============================] - 0s 102ms/step - loss: 0.1638\n",
      "Epoch 10/100\n",
      "1/1 [==============================] - 0s 100ms/step - loss: 4.1735e-04\n",
      "Epoch 11/100\n",
      "1/1 [==============================] - 0s 102ms/step - loss: 0.0066\n",
      "Epoch 12/100\n",
      "1/1 [==============================] - 0s 82ms/step - loss: 0.0325\n",
      "Epoch 13/100\n",
      "1/1 [==============================] - 0s 84ms/step - loss: 0.0374\n",
      "Epoch 14/100\n",
      "1/1 [==============================] - 0s 79ms/step - loss: 2.4908e-04\n",
      "Epoch 15/100\n",
      "1/1 [==============================] - 0s 87ms/step - loss: 0.0198\n",
      "Epoch 16/100\n",
      "1/1 [==============================] - 0s 85ms/step - loss: 0.1809\n",
      "Epoch 17/100\n",
      "1/1 [==============================] - 0s 81ms/step - loss: 0.0125\n",
      "Epoch 18/100\n",
      "1/1 [==============================] - 0s 80ms/step - loss: 0.0039\n",
      "Epoch 19/100\n",
      "1/1 [==============================] - 0s 79ms/step - loss: 0.0317\n",
      "Epoch 20/100\n",
      "1/1 [==============================] - 0s 92ms/step - loss: 0.0089\n",
      "Epoch 21/100\n",
      "1/1 [==============================] - 0s 88ms/step - loss: 0.0039\n",
      "Epoch 22/100\n",
      "1/1 [==============================] - 0s 84ms/step - loss: 0.0337\n",
      "Epoch 23/100\n",
      "1/1 [==============================] - 0s 81ms/step - loss: 0.0122\n",
      "Epoch 24/100\n",
      "1/1 [==============================] - 0s 82ms/step - loss: 0.0201\n",
      "Epoch 25/100\n",
      "1/1 [==============================] - 0s 82ms/step - loss: 0.0037\n",
      "Epoch 26/100\n",
      "1/1 [==============================] - 0s 79ms/step - loss: 0.0244\n",
      "Epoch 27/100\n",
      "1/1 [==============================] - 0s 80ms/step - loss: 0.0014\n",
      "Epoch 28/100\n",
      "1/1 [==============================] - 0s 78ms/step - loss: 0.0031\n",
      "Epoch 29/100\n",
      "1/1 [==============================] - 0s 82ms/step - loss: 0.0084\n",
      "Epoch 30/100\n",
      "1/1 [==============================] - 0s 86ms/step - loss: 0.0014\n",
      "Epoch 31/100\n",
      "1/1 [==============================] - 0s 82ms/step - loss: 0.0583\n",
      "Epoch 32/100\n",
      "1/1 [==============================] - 0s 84ms/step - loss: 0.0086\n",
      "Epoch 33/100\n",
      "1/1 [==============================] - 0s 81ms/step - loss: 0.0037\n",
      "Epoch 34/100\n",
      "1/1 [==============================] - 0s 93ms/step - loss: 9.1732e-04\n",
      "Epoch 35/100\n",
      "1/1 [==============================] - 0s 82ms/step - loss: 0.0216\n",
      "Epoch 36/100\n",
      "1/1 [==============================] - 0s 80ms/step - loss: 0.0031\n",
      "Epoch 37/100\n",
      "1/1 [==============================] - 0s 81ms/step - loss: 1.4316e-05\n",
      "Epoch 38/100\n",
      "1/1 [==============================] - 0s 78ms/step - loss: 0.0242\n",
      "Epoch 39/100\n",
      "1/1 [==============================] - 0s 79ms/step - loss: 2.9672e-04\n",
      "Epoch 40/100\n",
      "1/1 [==============================] - 0s 82ms/step - loss: 0.0071\n",
      "Epoch 41/100\n",
      "1/1 [==============================] - 0s 80ms/step - loss: 0.0274\n",
      "Epoch 42/100\n",
      "1/1 [==============================] - 0s 81ms/step - loss: 3.6468e-05\n",
      "Epoch 43/100\n",
      "1/1 [==============================] - 0s 80ms/step - loss: 0.0014\n",
      "Epoch 44/100\n",
      "1/1 [==============================] - 0s 83ms/step - loss: 0.0146\n",
      "Epoch 45/100\n",
      "1/1 [==============================] - 0s 89ms/step - loss: 0.0113\n",
      "Epoch 46/100\n",
      "1/1 [==============================] - 0s 85ms/step - loss: 0.0075\n",
      "Epoch 47/100\n",
      "1/1 [==============================] - 0s 80ms/step - loss: 0.0097\n",
      "Epoch 48/100\n",
      "1/1 [==============================] - 0s 80ms/step - loss: 0.0027\n",
      "Epoch 49/100\n",
      "1/1 [==============================] - 0s 81ms/step - loss: 0.0589\n",
      "Epoch 50/100\n",
      "1/1 [==============================] - 0s 82ms/step - loss: 7.9389e-04\n",
      "Epoch 51/100\n",
      "1/1 [==============================] - 0s 80ms/step - loss: 0.0011\n",
      "Epoch 52/100\n",
      "1/1 [==============================] - 0s 80ms/step - loss: 0.0071\n",
      "Epoch 53/100\n",
      "1/1 [==============================] - 0s 83ms/step - loss: 0.0623\n",
      "Epoch 54/100\n",
      "1/1 [==============================] - 0s 83ms/step - loss: 0.0038\n",
      "Epoch 55/100\n",
      "1/1 [==============================] - 0s 82ms/step - loss: 0.0658\n",
      "Epoch 56/100\n",
      "1/1 [==============================] - 0s 82ms/step - loss: 0.0200\n",
      "Epoch 57/100\n",
      "1/1 [==============================] - 0s 78ms/step - loss: 0.0349\n",
      "Epoch 58/100\n",
      "1/1 [==============================] - 0s 77ms/step - loss: 0.0019\n",
      "Epoch 59/100\n",
      "1/1 [==============================] - 0s 79ms/step - loss: 6.1174e-04\n",
      "Epoch 60/100\n",
      "1/1 [==============================] - 0s 80ms/step - loss: 0.0119\n",
      "Epoch 61/100\n",
      "1/1 [==============================] - 0s 81ms/step - loss: 0.0011\n",
      "Epoch 62/100\n",
      "1/1 [==============================] - 0s 76ms/step - loss: 0.0189\n",
      "Epoch 63/100\n",
      "1/1 [==============================] - 0s 87ms/step - loss: 3.4021e-04\n",
      "Epoch 64/100\n",
      "1/1 [==============================] - 0s 78ms/step - loss: 0.0679\n",
      "Epoch 65/100\n",
      "1/1 [==============================] - 0s 76ms/step - loss: 0.0131\n",
      "Epoch 66/100\n",
      "1/1 [==============================] - 0s 81ms/step - loss: 0.0345\n",
      "Epoch 67/100\n",
      "1/1 [==============================] - 0s 78ms/step - loss: 7.9085e-04\n",
      "Epoch 68/100\n",
      "1/1 [==============================] - 0s 79ms/step - loss: 0.0029\n",
      "Epoch 69/100\n",
      "1/1 [==============================] - 0s 87ms/step - loss: 0.0187\n",
      "Epoch 70/100\n",
      "1/1 [==============================] - 0s 81ms/step - loss: 2.9941e-04\n",
      "Epoch 71/100\n",
      "1/1 [==============================] - 0s 87ms/step - loss: 0.0025\n",
      "Epoch 72/100\n",
      "1/1 [==============================] - 0s 79ms/step - loss: 0.0027\n",
      "Epoch 73/100\n",
      "1/1 [==============================] - 0s 78ms/step - loss: 0.0162\n",
      "Epoch 74/100\n",
      "1/1 [==============================] - 0s 76ms/step - loss: 0.0162\n",
      "Epoch 75/100\n",
      "1/1 [==============================] - 0s 78ms/step - loss: 6.1395e-05\n",
      "Epoch 76/100\n",
      "1/1 [==============================] - 0s 78ms/step - loss: 0.0299\n",
      "Epoch 77/100\n",
      "1/1 [==============================] - 0s 77ms/step - loss: 0.0053\n",
      "Epoch 78/100\n",
      "1/1 [==============================] - 0s 91ms/step - loss: 0.0207\n",
      "Epoch 79/100\n",
      "1/1 [==============================] - 0s 82ms/step - loss: 0.0042\n",
      "Epoch 80/100\n",
      "1/1 [==============================] - 0s 79ms/step - loss: 0.0437\n",
      "Epoch 81/100\n",
      "1/1 [==============================] - 0s 79ms/step - loss: 0.0598\n",
      "Epoch 82/100\n",
      "1/1 [==============================] - 0s 80ms/step - loss: 0.0109\n",
      "Epoch 83/100\n",
      "1/1 [==============================] - 0s 79ms/step - loss: 0.0062\n",
      "Epoch 84/100\n",
      "1/1 [==============================] - 0s 77ms/step - loss: 0.0021\n",
      "Epoch 85/100\n",
      "1/1 [==============================] - 0s 82ms/step - loss: 0.0164\n",
      "Epoch 86/100\n",
      "1/1 [==============================] - 0s 83ms/step - loss: 0.0366\n",
      "Epoch 87/100\n",
      "1/1 [==============================] - 0s 79ms/step - loss: 0.0609\n",
      "Epoch 88/100\n",
      "1/1 [==============================] - 0s 81ms/step - loss: 0.0346\n",
      "Epoch 89/100\n",
      "1/1 [==============================] - 0s 80ms/step - loss: 6.7431e-04\n",
      "Epoch 90/100\n",
      "1/1 [==============================] - 0s 82ms/step - loss: 3.5416e-05\n",
      "Epoch 91/100\n",
      "1/1 [==============================] - 0s 82ms/step - loss: 0.0288\n",
      "Epoch 92/100\n",
      "1/1 [==============================] - 0s 83ms/step - loss: 0.0280\n",
      "Epoch 93/100\n",
      "1/1 [==============================] - 0s 80ms/step - loss: 0.0018\n",
      "Epoch 94/100\n",
      "1/1 [==============================] - 0s 87ms/step - loss: 0.0051\n",
      "Epoch 95/100\n",
      "1/1 [==============================] - 0s 81ms/step - loss: 0.0100\n",
      "Epoch 96/100\n",
      "1/1 [==============================] - 0s 80ms/step - loss: 8.5222e-04\n",
      "Epoch 97/100\n",
      "1/1 [==============================] - 0s 78ms/step - loss: 0.0014\n",
      "Epoch 98/100\n",
      "1/1 [==============================] - 0s 81ms/step - loss: 0.0096\n",
      "Epoch 99/100\n",
      "1/1 [==============================] - 0s 77ms/step - loss: 0.0305\n",
      "Epoch 100/100\n",
      "1/1 [==============================] - 0s 84ms/step - loss: 0.0044\n"
     ]
    },
    {
     "data": {
      "text/plain": [
       "<keras.callbacks.History at 0x7febb837d160>"
      ]
     },
     "execution_count": 8,
     "metadata": {},
     "output_type": "execute_result"
    }
   ],
   "source": [
    "model = Sequential()\n",
    "model.add(LSTM(units=50,return_sequences=True,input_shape=(X_train.shape[1], 1)))\n",
    "model.add(Dropout(0.2))\n",
    "model.add(LSTM(units=50,return_sequences=True))\n",
    "model.add(Dropout(0.2))\n",
    "model.add(LSTM(units=50,return_sequences=True))\n",
    "model.add(Dropout(0.2))\n",
    "model.add(LSTM(units=50))\n",
    "model.add(Dropout(0.2))\n",
    "model.add(Dense(units=1))\n",
    "model.compile(optimizer='adam',loss='mean_squared_error')\n",
    "model.fit(X_train,y_train,epochs=100,batch_size=32)"
   ]
  },
  {
   "cell_type": "code",
   "execution_count": 9,
   "id": "fe8ed5d5-2a56-4f0a-afb1-291db7d281de",
   "metadata": {},
   "outputs": [],
   "source": [
    "url = 'https://raw.githubusercontent.com/mwitiderrick/stockprice/master/tatatest.csv'\n",
    "dataset_test = pd.read_csv(url)\n",
    "real_stock_price = dataset_test.iloc[:, 1:2].values"
   ]
  },
  {
   "cell_type": "code",
   "execution_count": 12,
   "id": "7d2753a2-04f3-4c6e-b866-2a869ab5f9a5",
   "metadata": {},
   "outputs": [
    {
     "name": "stdout",
     "output_type": "stream",
     "text": [
      "1/1 [==============================] - 0s 39ms/step\n"
     ]
    },
    {
     "ename": "AttributeError",
     "evalue": "'numpy.ndarray' object has no attribute 'append'",
     "output_type": "error",
     "traceback": [
      "\u001b[0;31m---------------------------------------------------------------------------\u001b[0m",
      "\u001b[0;31mAttributeError\u001b[0m                            Traceback (most recent call last)",
      "\u001b[0;32m/tmp/ipykernel_31993/3385955613.py\u001b[0m in \u001b[0;36m<module>\u001b[0;34m\u001b[0m\n\u001b[1;32m      5\u001b[0m \u001b[0mX_test\u001b[0m \u001b[0;34m=\u001b[0m \u001b[0;34m[\u001b[0m\u001b[0;34m]\u001b[0m\u001b[0;34m\u001b[0m\u001b[0;34m\u001b[0m\u001b[0m\n\u001b[1;32m      6\u001b[0m \u001b[0;32mfor\u001b[0m \u001b[0mi\u001b[0m \u001b[0;32min\u001b[0m \u001b[0mrange\u001b[0m\u001b[0;34m(\u001b[0m\u001b[0;36m60\u001b[0m\u001b[0;34m,\u001b[0m \u001b[0;36m76\u001b[0m\u001b[0;34m)\u001b[0m\u001b[0;34m:\u001b[0m\u001b[0;34m\u001b[0m\u001b[0;34m\u001b[0m\u001b[0m\n\u001b[0;32m----> 7\u001b[0;31m     \u001b[0mX_test\u001b[0m\u001b[0;34m.\u001b[0m\u001b[0mappend\u001b[0m\u001b[0;34m(\u001b[0m\u001b[0minputs\u001b[0m\u001b[0;34m[\u001b[0m\u001b[0mi\u001b[0m\u001b[0;34m-\u001b[0m\u001b[0;36m60\u001b[0m\u001b[0;34m:\u001b[0m\u001b[0mi\u001b[0m\u001b[0;34m,\u001b[0m \u001b[0;36m0\u001b[0m\u001b[0;34m]\u001b[0m\u001b[0;34m)\u001b[0m\u001b[0;34m\u001b[0m\u001b[0;34m\u001b[0m\u001b[0m\n\u001b[0m\u001b[1;32m      8\u001b[0m     \u001b[0mX_test\u001b[0m \u001b[0;34m=\u001b[0m \u001b[0mnp\u001b[0m\u001b[0;34m.\u001b[0m\u001b[0marray\u001b[0m\u001b[0;34m(\u001b[0m\u001b[0mX_test\u001b[0m\u001b[0;34m)\u001b[0m\u001b[0;34m\u001b[0m\u001b[0;34m\u001b[0m\u001b[0m\n\u001b[1;32m      9\u001b[0m     \u001b[0mX_test\u001b[0m \u001b[0;34m=\u001b[0m \u001b[0mnp\u001b[0m\u001b[0;34m.\u001b[0m\u001b[0mreshape\u001b[0m\u001b[0;34m(\u001b[0m\u001b[0mX_test\u001b[0m\u001b[0;34m,\u001b[0m \u001b[0;34m(\u001b[0m\u001b[0mX_test\u001b[0m\u001b[0;34m.\u001b[0m\u001b[0mshape\u001b[0m\u001b[0;34m[\u001b[0m\u001b[0;36m0\u001b[0m\u001b[0;34m]\u001b[0m\u001b[0;34m,\u001b[0m \u001b[0mX_test\u001b[0m\u001b[0;34m.\u001b[0m\u001b[0mshape\u001b[0m\u001b[0;34m[\u001b[0m\u001b[0;36m1\u001b[0m\u001b[0;34m]\u001b[0m\u001b[0;34m,\u001b[0m \u001b[0;36m1\u001b[0m\u001b[0;34m)\u001b[0m\u001b[0;34m)\u001b[0m\u001b[0;34m\u001b[0m\u001b[0;34m\u001b[0m\u001b[0m\n",
      "\u001b[0;31mAttributeError\u001b[0m: 'numpy.ndarray' object has no attribute 'append'"
     ]
    }
   ],
   "source": [
    "dataset_total = pd.concat((dataset_train['Open'], dataset_test['Open']), axis = 0)\n",
    "inputs = dataset_total[len(dataset_total) - len(dataset_test) - 60:].values\n",
    "inputs = inputs.reshape(-1,1)\n",
    "inputs = scaler.transform(inputs)\n",
    "X_test = []\n",
    "for i in range(60, 76):\n",
    "    X_test.append(inputs[i-60:i, 0])\n",
    "    X_test = np.array(X_test)\n",
    "    X_test = np.reshape(X_test, (X_test.shape[0], X_test.shape[1], 1))\n",
    "    predicted_stock_price = model.predict(X_test)\n",
    "    predicted_stock_price = scaler.inverse_transform(predicted_stock_price)"
   ]
  },
  {
   "cell_type": "code",
   "execution_count": null,
   "id": "da77f238-65d9-4a56-b6cd-19f9ad4a89fd",
   "metadata": {},
   "outputs": [],
   "source": [
    "plt.plot(real_stock_price, color = 'black', label = 'TATA Stock Price')\n",
    "plt.plot(predicted_stock_price, color = 'green', label = 'Predicted TATA Stock Price')\n",
    "plt.title('TATA Stock Price Prediction')\n",
    "plt.xlabel('Time')\n",
    "plt.ylabel('TATA Stock Price')\n",
    "plt.legend()\n",
    "plt.show()"
   ]
  },
  {
   "cell_type": "code",
   "execution_count": null,
   "id": "66923a68-cc9e-4d84-a996-1e5b90e54568",
   "metadata": {},
   "outputs": [],
   "source": []
  }
 ],
 "metadata": {
  "kernelspec": {
   "display_name": "Python 3 (ipykernel)",
   "language": "python",
   "name": "python3"
  },
  "language_info": {
   "codemirror_mode": {
    "name": "ipython",
    "version": 3
   },
   "file_extension": ".py",
   "mimetype": "text/x-python",
   "name": "python",
   "nbconvert_exporter": "python",
   "pygments_lexer": "ipython3",
   "version": "3.8.12"
  }
 },
 "nbformat": 4,
 "nbformat_minor": 5
}
