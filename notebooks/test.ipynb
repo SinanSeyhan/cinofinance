{
 "cells": [
  {
   "cell_type": "markdown",
   "metadata": {},
   "source": [
    "# Checking the modules"
   ]
  },
  {
   "cell_type": "code",
   "execution_count": 25,
   "metadata": {},
   "outputs": [
    {
     "name": "stdout",
     "output_type": "stream",
     "text": [
      "The autoreload extension is already loaded. To reload it, use:\n",
      "  %reload_ext autoreload\n"
     ]
    }
   ],
   "source": [
    "%load_ext autoreload\n",
    "%autoreload 2\n",
    "from cinofinance.dividend import Dividend\n",
    "import os\n",
    "import pandas as pd\n",
    "import yfinance as yf\n",
    "from datetime import datetime"
   ]
  },
  {
   "cell_type": "code",
   "execution_count": 39,
   "metadata": {},
   "outputs": [
    {
     "data": {
      "text/plain": [
       "2.9352"
      ]
     },
     "execution_count": 39,
     "metadata": {},
     "output_type": "execute_result"
    }
   ],
   "source": [
    "df[datetime.now().strftime('%h')].sum()"
   ]
  },
  {
   "cell_type": "code",
   "execution_count": 37,
   "metadata": {},
   "outputs": [
    {
     "data": {
      "text/plain": [
       "AGNC    2.0190\n",
       "STAG    0.9162\n",
       "BNTX    0.0000\n",
       "MCO     0.0000\n",
       "MSFT    0.0000\n",
       "V       0.0000\n",
       "NVDA    0.0000\n",
       "Name: Jul, dtype: float64"
      ]
     },
     "execution_count": 37,
     "metadata": {},
     "output_type": "execute_result"
    }
   ],
   "source": [
    "df['Jul']"
   ]
  },
  {
   "cell_type": "code",
   "execution_count": 41,
   "metadata": {},
   "outputs": [
    {
     "name": "stdout",
     "output_type": "stream",
     "text": [
      "[*********************100%***********************]  1 of 1 completed\n",
      "[*********************100%***********************]  1 of 1 completed\n",
      "[*********************100%***********************]  1 of 1 completed\n",
      "[*********************100%***********************]  1 of 1 completed\n",
      "[*********************100%***********************]  1 of 1 completed\n",
      "[*********************100%***********************]  1 of 1 completed\n",
      "[*********************100%***********************]  1 of 1 completed\n",
      " \n",
      "**********************************************************************\n",
      "# The total Dividend Income (EUR) of the portfolio is: 42.79 EUR     #\n",
      "**********************************************************************\n",
      " \n",
      " \n",
      "**********************************************************************\n",
      "# The total Dividend Income (EUR) of the portfolio is: 2.94 EUR     #\n",
      "**********************************************************************\n",
      " \n"
     ]
    },
    {
     "data": {
      "text/html": [
       "<div>\n",
       "<style scoped>\n",
       "    .dataframe tbody tr th:only-of-type {\n",
       "        vertical-align: middle;\n",
       "    }\n",
       "\n",
       "    .dataframe tbody tr th {\n",
       "        vertical-align: top;\n",
       "    }\n",
       "\n",
       "    .dataframe thead th {\n",
       "        text-align: right;\n",
       "    }\n",
       "</style>\n",
       "<table border=\"1\" class=\"dataframe\">\n",
       "  <thead>\n",
       "    <tr style=\"text-align: right;\">\n",
       "      <th></th>\n",
       "      <th>Lot</th>\n",
       "      <th>Name</th>\n",
       "      <th>Jan</th>\n",
       "      <th>Feb</th>\n",
       "      <th>Mar</th>\n",
       "      <th>Apr</th>\n",
       "      <th>May</th>\n",
       "      <th>Jun</th>\n",
       "      <th>Jul</th>\n",
       "      <th>Aug</th>\n",
       "      <th>Sep</th>\n",
       "      <th>Oct</th>\n",
       "      <th>Nov</th>\n",
       "      <th>Dec</th>\n",
       "      <th>Price</th>\n",
       "      <th>Dividend, annual</th>\n",
       "      <th>ROI, annual</th>\n",
       "    </tr>\n",
       "  </thead>\n",
       "  <tbody>\n",
       "    <tr>\n",
       "      <th>AGNC</th>\n",
       "      <td>20</td>\n",
       "      <td>AGNC Investment Corp. Common Stock</td>\n",
       "      <td>2.01900</td>\n",
       "      <td>2.01900</td>\n",
       "      <td>2.01900</td>\n",
       "      <td>2.01900</td>\n",
       "      <td>2.01900</td>\n",
       "      <td>2.01900</td>\n",
       "      <td>2.0190</td>\n",
       "      <td>2.01900</td>\n",
       "      <td>2.0190</td>\n",
       "      <td>2.0190</td>\n",
       "      <td>2.01900</td>\n",
       "      <td>2.0190</td>\n",
       "      <td>11.23684</td>\n",
       "      <td>24.22800</td>\n",
       "      <td>0.10781</td>\n",
       "    </tr>\n",
       "    <tr>\n",
       "      <th>STAG</th>\n",
       "      <td>9</td>\n",
       "      <td>Stag Industrial Inc. Common Stock</td>\n",
       "      <td>0.92376</td>\n",
       "      <td>0.92376</td>\n",
       "      <td>0.92376</td>\n",
       "      <td>0.92376</td>\n",
       "      <td>0.92376</td>\n",
       "      <td>0.92376</td>\n",
       "      <td>0.9162</td>\n",
       "      <td>0.91620</td>\n",
       "      <td>0.9162</td>\n",
       "      <td>0.9162</td>\n",
       "      <td>0.91620</td>\n",
       "      <td>0.9162</td>\n",
       "      <td>30.06986</td>\n",
       "      <td>11.03976</td>\n",
       "      <td>0.04079</td>\n",
       "    </tr>\n",
       "    <tr>\n",
       "      <th>BNTX</th>\n",
       "      <td>1</td>\n",
       "      <td>BioNTech SE American Depositary Share</td>\n",
       "      <td>0.00000</td>\n",
       "      <td>0.00000</td>\n",
       "      <td>0.00000</td>\n",
       "      <td>0.00000</td>\n",
       "      <td>0.00000</td>\n",
       "      <td>1.77596</td>\n",
       "      <td>0.0000</td>\n",
       "      <td>0.00000</td>\n",
       "      <td>0.0000</td>\n",
       "      <td>0.0000</td>\n",
       "      <td>0.00000</td>\n",
       "      <td>0.0000</td>\n",
       "      <td>167.40136</td>\n",
       "      <td>1.77596</td>\n",
       "      <td>0.01061</td>\n",
       "    </tr>\n",
       "    <tr>\n",
       "      <th>MCO</th>\n",
       "      <td>1</td>\n",
       "      <td>Moody's Corporation Common Stock</td>\n",
       "      <td>0.00000</td>\n",
       "      <td>0.58890</td>\n",
       "      <td>0.00000</td>\n",
       "      <td>0.00000</td>\n",
       "      <td>0.58890</td>\n",
       "      <td>0.00000</td>\n",
       "      <td>0.0000</td>\n",
       "      <td>0.52160</td>\n",
       "      <td>0.0000</td>\n",
       "      <td>0.0000</td>\n",
       "      <td>0.52160</td>\n",
       "      <td>0.0000</td>\n",
       "      <td>279.57297</td>\n",
       "      <td>2.22100</td>\n",
       "      <td>0.00794</td>\n",
       "    </tr>\n",
       "    <tr>\n",
       "      <th>MSFT</th>\n",
       "      <td>1</td>\n",
       "      <td>Microsoft Corporation Common Stock</td>\n",
       "      <td>0.00000</td>\n",
       "      <td>0.52160</td>\n",
       "      <td>0.00000</td>\n",
       "      <td>0.00000</td>\n",
       "      <td>0.52160</td>\n",
       "      <td>0.00000</td>\n",
       "      <td>0.0000</td>\n",
       "      <td>0.47112</td>\n",
       "      <td>0.0000</td>\n",
       "      <td>0.0000</td>\n",
       "      <td>0.52160</td>\n",
       "      <td>0.0000</td>\n",
       "      <td>263.36712</td>\n",
       "      <td>2.03592</td>\n",
       "      <td>0.00773</td>\n",
       "    </tr>\n",
       "    <tr>\n",
       "      <th>V</th>\n",
       "      <td>1</td>\n",
       "      <td>Visa Inc.</td>\n",
       "      <td>0.00000</td>\n",
       "      <td>0.31548</td>\n",
       "      <td>0.00000</td>\n",
       "      <td>0.00000</td>\n",
       "      <td>0.31548</td>\n",
       "      <td>0.00000</td>\n",
       "      <td>0.0000</td>\n",
       "      <td>0.26921</td>\n",
       "      <td>0.0000</td>\n",
       "      <td>0.0000</td>\n",
       "      <td>0.31548</td>\n",
       "      <td>0.0000</td>\n",
       "      <td>200.30504</td>\n",
       "      <td>1.21565</td>\n",
       "      <td>0.00607</td>\n",
       "    </tr>\n",
       "    <tr>\n",
       "      <th>NVDA</th>\n",
       "      <td>2</td>\n",
       "      <td>NVIDIA Corporation Common Stock</td>\n",
       "      <td>0.00000</td>\n",
       "      <td>0.00000</td>\n",
       "      <td>0.06730</td>\n",
       "      <td>0.00000</td>\n",
       "      <td>0.00000</td>\n",
       "      <td>0.06730</td>\n",
       "      <td>0.0000</td>\n",
       "      <td>0.06730</td>\n",
       "      <td>0.0000</td>\n",
       "      <td>0.0000</td>\n",
       "      <td>0.00000</td>\n",
       "      <td>0.0673</td>\n",
       "      <td>155.83982</td>\n",
       "      <td>0.26920</td>\n",
       "      <td>0.00086</td>\n",
       "    </tr>\n",
       "  </tbody>\n",
       "</table>\n",
       "</div>"
      ],
      "text/plain": [
       "      Lot                                   Name      Jan      Feb      Mar  \\\n",
       "AGNC   20     AGNC Investment Corp. Common Stock  2.01900  2.01900  2.01900   \n",
       "STAG    9      Stag Industrial Inc. Common Stock  0.92376  0.92376  0.92376   \n",
       "BNTX    1  BioNTech SE American Depositary Share  0.00000  0.00000  0.00000   \n",
       "MCO     1       Moody's Corporation Common Stock  0.00000  0.58890  0.00000   \n",
       "MSFT    1     Microsoft Corporation Common Stock  0.00000  0.52160  0.00000   \n",
       "V       1                              Visa Inc.  0.00000  0.31548  0.00000   \n",
       "NVDA    2        NVIDIA Corporation Common Stock  0.00000  0.00000  0.06730   \n",
       "\n",
       "          Apr      May      Jun     Jul      Aug     Sep     Oct      Nov  \\\n",
       "AGNC  2.01900  2.01900  2.01900  2.0190  2.01900  2.0190  2.0190  2.01900   \n",
       "STAG  0.92376  0.92376  0.92376  0.9162  0.91620  0.9162  0.9162  0.91620   \n",
       "BNTX  0.00000  0.00000  1.77596  0.0000  0.00000  0.0000  0.0000  0.00000   \n",
       "MCO   0.00000  0.58890  0.00000  0.0000  0.52160  0.0000  0.0000  0.52160   \n",
       "MSFT  0.00000  0.52160  0.00000  0.0000  0.47112  0.0000  0.0000  0.52160   \n",
       "V     0.00000  0.31548  0.00000  0.0000  0.26921  0.0000  0.0000  0.31548   \n",
       "NVDA  0.00000  0.00000  0.06730  0.0000  0.06730  0.0000  0.0000  0.00000   \n",
       "\n",
       "         Dec      Price  Dividend, annual  ROI, annual  \n",
       "AGNC  2.0190   11.23684          24.22800      0.10781  \n",
       "STAG  0.9162   30.06986          11.03976      0.04079  \n",
       "BNTX  0.0000  167.40136           1.77596      0.01061  \n",
       "MCO   0.0000  279.57297           2.22100      0.00794  \n",
       "MSFT  0.0000  263.36712           2.03592      0.00773  \n",
       "V     0.0000  200.30504           1.21565      0.00607  \n",
       "NVDA  0.0673  155.83982           0.26920      0.00086  "
      ]
     },
     "execution_count": 41,
     "metadata": {},
     "output_type": "execute_result"
    }
   ],
   "source": [
    "portfolio = {'NVDA': 2, # NVIDIA\n",
    "            'STAG': 9, # STAG\n",
    "            'MCO': 1, # MOODY'S\n",
    "            'MSFT': 1, # MICROSOFT\n",
    "            'AGNC': 20, # AGNC INVESTMENT\n",
    "            'V': 1, # VISA\n",
    "            'BNTX': 1, # BIONTECH\n",
    "            }\n",
    "df = Dividend().get_portfolio_dividends(portfolio)\n",
    "df"
   ]
  },
  {
   "cell_type": "markdown",
   "metadata": {
    "tags": []
   },
   "source": [
    "# Check the Pool Function"
   ]
  },
  {
   "cell_type": "markdown",
   "metadata": {},
   "source": [
    "# Import From Python File for Pool Function:"
   ]
  },
  {
   "cell_type": "code",
   "execution_count": null,
   "metadata": {},
   "outputs": [],
   "source": [
    "df_div = Dividend().get_dividend_pool(100)\n",
    "# import numpy as np\n",
    "# df_div['Lot'] = (100 / df_div['Price'])\n",
    "# df_div['Lot'] = df_div['Lot'].apply(np.floor)\n",
    "\n",
    "# month_columns = ['Jan', 'Feb', 'Mar', 'Apr', 'May', 'Jun', 'Jul', 'Aug', 'Sep', 'Oct', 'Nov', 'Dec']\n",
    "# df_div[month_columns] = df_div[month_columns].multiply(df_div['Lot'], axis='index')\n",
    "# df_div['Dividend, annual'] = df_div[month_columns].sum(axis=1)\n",
    "\n",
    "\n",
    "# df_div.sort_values('Dividend, annual', ascending=False)"
   ]
  },
  {
   "cell_type": "code",
   "execution_count": null,
   "metadata": {},
   "outputs": [],
   "source": [
    "\n",
    "df_div.sort_values('Dividend, annual', ascending=False)[:15]"
   ]
  },
  {
   "cell_type": "code",
   "execution_count": null,
   "metadata": {},
   "outputs": [],
   "source": [
    "df_div.sort_values('ROI, annual', ascending=False)[:15]"
   ]
  },
  {
   "cell_type": "code",
   "execution_count": null,
   "metadata": {},
   "outputs": [],
   "source": [
    "pool = Dividend().get_final_pool()\n",
    "pool"
   ]
  },
  {
   "cell_type": "markdown",
   "metadata": {
    "tags": []
   },
   "source": [
    "# Yahoo Finance"
   ]
  },
  {
   "cell_type": "code",
   "execution_count": null,
   "metadata": {},
   "outputs": [],
   "source": [
    "orc = yf.Ticker(\"ORC\")"
   ]
  },
  {
   "cell_type": "code",
   "execution_count": null,
   "metadata": {},
   "outputs": [],
   "source": [
    "# show analysts recommendations\n",
    "orc.info"
   ]
  }
 ],
 "metadata": {
  "kernelspec": {
   "display_name": "Python 3 (ipykernel)",
   "language": "python",
   "name": "python3"
  },
  "language_info": {
   "codemirror_mode": {
    "name": "ipython",
    "version": 3
   },
   "file_extension": ".py",
   "mimetype": "text/x-python",
   "name": "python",
   "nbconvert_exporter": "python",
   "pygments_lexer": "ipython3",
   "version": "3.8.12"
  },
  "vscode": {
   "interpreter": {
    "hash": "95be26d21ba5b9a13e2e7eebc264c0818d1710e239b110deb2006b830b95c13f"
   }
  }
 },
 "nbformat": 4,
 "nbformat_minor": 4
}
