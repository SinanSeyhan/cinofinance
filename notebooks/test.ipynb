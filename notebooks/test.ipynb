{
 "cells": [
  {
   "cell_type": "code",
   "execution_count": 1,
   "metadata": {},
   "outputs": [],
   "source": [
    "%load_ext autoreload\n",
    "\n",
    "%autoreload 2\n",
    "from dividend import *"
   ]
  },
  {
   "cell_type": "code",
   "execution_count": 2,
   "metadata": {},
   "outputs": [],
   "source": [
    "portfolio = {'NVDA': 2, # NVIDIA\n",
    "            'STAG': 9, # STAG\n",
    "            'MCO': 1, # MOODY'S\n",
    "            'MSFT': 1, # MICROSOFT\n",
    "            'AGNC': 18, # AGNC INVESTMENT\n",
    "            'V': 1, # VISA\n",
    "            'BNTX': 1, # BIONTECH\n",
    "            }\n"
   ]
  },
  {
   "cell_type": "code",
   "execution_count": 15,
   "metadata": {},
   "outputs": [
    {
     "name": "stdout",
     "output_type": "stream",
     "text": [
      "[*********************100%***********************]  1 of 1 completed\n",
      "[*********************100%***********************]  1 of 1 completed\n",
      "[*********************100%***********************]  1 of 1 completed\n",
      "[*********************100%***********************]  1 of 1 completed\n",
      "[*********************100%***********************]  1 of 1 completed\n",
      "[*********************100%***********************]  1 of 1 completed\n",
      "[*********************100%***********************]  1 of 1 completed\n"
     ]
    },
    {
     "data": {
      "text/html": [
       "<div>\n",
       "<style scoped>\n",
       "    .dataframe tbody tr th:only-of-type {\n",
       "        vertical-align: middle;\n",
       "    }\n",
       "\n",
       "    .dataframe tbody tr th {\n",
       "        vertical-align: top;\n",
       "    }\n",
       "\n",
       "    .dataframe thead th {\n",
       "        text-align: right;\n",
       "    }\n",
       "</style>\n",
       "<table border=\"1\" class=\"dataframe\">\n",
       "  <thead>\n",
       "    <tr style=\"text-align: right;\">\n",
       "      <th></th>\n",
       "      <th>Price</th>\n",
       "      <th>Jan</th>\n",
       "      <th>Feb</th>\n",
       "      <th>Jun</th>\n",
       "      <th>Jul</th>\n",
       "      <th>Aug</th>\n",
       "      <th>Sep</th>\n",
       "      <th>Oct</th>\n",
       "      <th>Nov</th>\n",
       "      <th>Dec</th>\n",
       "    </tr>\n",
       "  </thead>\n",
       "  <tbody>\n",
       "    <tr>\n",
       "      <th>NVDA</th>\n",
       "      <td>126.351715</td>\n",
       "      <td>0.000000</td>\n",
       "      <td>0.000000</td>\n",
       "      <td>0.065038</td>\n",
       "      <td>0.000000</td>\n",
       "      <td>0.065038</td>\n",
       "      <td>0.000000</td>\n",
       "      <td>0.000000</td>\n",
       "      <td>0.000000</td>\n",
       "      <td>0.065038</td>\n",
       "    </tr>\n",
       "    <tr>\n",
       "      <th>STAG</th>\n",
       "      <td>25.486593</td>\n",
       "      <td>0.892640</td>\n",
       "      <td>0.892640</td>\n",
       "      <td>1.777964</td>\n",
       "      <td>0.885324</td>\n",
       "      <td>0.885324</td>\n",
       "      <td>0.885324</td>\n",
       "      <td>0.885324</td>\n",
       "      <td>0.885324</td>\n",
       "      <td>0.885324</td>\n",
       "    </tr>\n",
       "    <tr>\n",
       "      <th>MCO</th>\n",
       "      <td>221.078922</td>\n",
       "      <td>0.000000</td>\n",
       "      <td>0.569079</td>\n",
       "      <td>0.000000</td>\n",
       "      <td>0.000000</td>\n",
       "      <td>0.504041</td>\n",
       "      <td>0.000000</td>\n",
       "      <td>0.000000</td>\n",
       "      <td>0.504041</td>\n",
       "      <td>0.000000</td>\n",
       "    </tr>\n",
       "    <tr>\n",
       "      <th>MSFT</th>\n",
       "      <td>211.583444</td>\n",
       "      <td>0.000000</td>\n",
       "      <td>0.504041</td>\n",
       "      <td>0.000000</td>\n",
       "      <td>0.000000</td>\n",
       "      <td>0.455263</td>\n",
       "      <td>0.000000</td>\n",
       "      <td>0.000000</td>\n",
       "      <td>0.504041</td>\n",
       "      <td>0.000000</td>\n",
       "    </tr>\n",
       "    <tr>\n",
       "      <th>AGNC</th>\n",
       "      <td>9.064609</td>\n",
       "      <td>1.756014</td>\n",
       "      <td>1.756014</td>\n",
       "      <td>3.512028</td>\n",
       "      <td>1.756014</td>\n",
       "      <td>1.756014</td>\n",
       "      <td>1.756014</td>\n",
       "      <td>1.756014</td>\n",
       "      <td>1.756014</td>\n",
       "      <td>1.756014</td>\n",
       "    </tr>\n",
       "    <tr>\n",
       "      <th>V</th>\n",
       "      <td>162.187411</td>\n",
       "      <td>0.000000</td>\n",
       "      <td>0.304864</td>\n",
       "      <td>0.000000</td>\n",
       "      <td>0.000000</td>\n",
       "      <td>0.260150</td>\n",
       "      <td>0.000000</td>\n",
       "      <td>0.000000</td>\n",
       "      <td>0.304864</td>\n",
       "      <td>0.000000</td>\n",
       "    </tr>\n",
       "    <tr>\n",
       "      <th>BNTX</th>\n",
       "      <td>115.425403</td>\n",
       "      <td>0.000000</td>\n",
       "      <td>0.000000</td>\n",
       "      <td>1.716179</td>\n",
       "      <td>0.000000</td>\n",
       "      <td>0.000000</td>\n",
       "      <td>0.000000</td>\n",
       "      <td>0.000000</td>\n",
       "      <td>0.000000</td>\n",
       "      <td>0.000000</td>\n",
       "    </tr>\n",
       "  </tbody>\n",
       "</table>\n",
       "</div>"
      ],
      "text/plain": [
       "           Price       Jan       Feb       Jun       Jul       Aug       Sep  \\\n",
       "NVDA  126.351715  0.000000  0.000000  0.065038  0.000000  0.065038  0.000000   \n",
       "STAG   25.486593  0.892640  0.892640  1.777964  0.885324  0.885324  0.885324   \n",
       "MCO   221.078922  0.000000  0.569079  0.000000  0.000000  0.504041  0.000000   \n",
       "MSFT  211.583444  0.000000  0.504041  0.000000  0.000000  0.455263  0.000000   \n",
       "AGNC    9.064609  1.756014  1.756014  3.512028  1.756014  1.756014  1.756014   \n",
       "V     162.187411  0.000000  0.304864  0.000000  0.000000  0.260150  0.000000   \n",
       "BNTX  115.425403  0.000000  0.000000  1.716179  0.000000  0.000000  0.000000   \n",
       "\n",
       "           Oct       Nov       Dec  \n",
       "NVDA  0.000000  0.000000  0.065038  \n",
       "STAG  0.885324  0.885324  0.885324  \n",
       "MCO   0.000000  0.504041  0.000000  \n",
       "MSFT  0.000000  0.504041  0.000000  \n",
       "AGNC  1.756014  1.756014  1.756014  \n",
       "V     0.000000  0.304864  0.000000  \n",
       "BNTX  0.000000  0.000000  0.000000  "
      ]
     },
     "execution_count": 15,
     "metadata": {},
     "output_type": "execute_result"
    }
   ],
   "source": [
    "df = get_dividends(portfolio)\n",
    "df"
   ]
  },
  {
   "cell_type": "code",
   "execution_count": 4,
   "metadata": {},
   "outputs": [],
   "source": [
    "import yfinance as yf"
   ]
  },
  {
   "cell_type": "code",
   "execution_count": 12,
   "metadata": {},
   "outputs": [
    {
     "name": "stdout",
     "output_type": "stream",
     "text": [
      "[*********************100%***********************]  1 of 1 completed\n"
     ]
    },
    {
     "data": {
      "text/plain": [
       "11.149999618530273"
      ]
     },
     "execution_count": 12,
     "metadata": {},
     "output_type": "execute_result"
    }
   ],
   "source": [
    "yf.download('AGNC', period='1d')['Adj Close'].values[0]"
   ]
  },
  {
   "cell_type": "code",
   "execution_count": 13,
   "metadata": {},
   "outputs": [
    {
     "name": "stdout",
     "output_type": "stream",
     "text": [
      "[*********************100%***********************]  1 of 1 completed\n",
      "[*********************100%***********************]  1 of 1 completed\n",
      "[*********************100%***********************]  1 of 1 completed\n",
      "[*********************100%***********************]  1 of 1 completed\n",
      "[*********************100%***********************]  1 of 1 completed\n",
      "[*********************100%***********************]  1 of 1 completed\n",
      "[*********************100%***********************]  1 of 1 completed\n"
     ]
    },
    {
     "data": {
      "text/plain": [
       "[155.4199981689453,\n",
       " 31.350000381469727,\n",
       " 271.94000244140625,\n",
       " 260.260009765625,\n",
       " 11.149999618530273,\n",
       " 199.5,\n",
       " 141.97999572753906]"
      ]
     },
     "execution_count": 13,
     "metadata": {},
     "output_type": "execute_result"
    }
   ],
   "source": [
    "\n",
    "[yf.download(i, period='1d')['Adj Close'].values[0] for i in portfolio.keys()]"
   ]
  },
  {
   "cell_type": "code",
   "execution_count": null,
   "metadata": {},
   "outputs": [],
   "source": []
  }
 ],
 "metadata": {
  "kernelspec": {
   "display_name": "Python 3.8.12 64-bit ('shims')",
   "language": "python",
   "name": "python3"
  },
  "language_info": {
   "codemirror_mode": {
    "name": "ipython",
    "version": 3
   },
   "file_extension": ".py",
   "mimetype": "text/x-python",
   "name": "python",
   "nbconvert_exporter": "python",
   "pygments_lexer": "ipython3",
   "version": "3.8.12"
  },
  "orig_nbformat": 4,
  "vscode": {
   "interpreter": {
    "hash": "95be26d21ba5b9a13e2e7eebc264c0818d1710e239b110deb2006b830b95c13f"
   }
  }
 },
 "nbformat": 4,
 "nbformat_minor": 2
}
